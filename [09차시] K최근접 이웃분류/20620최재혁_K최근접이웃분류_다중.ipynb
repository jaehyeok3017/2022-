{
 "cells": [
  {
   "cell_type": "code",
   "execution_count": 1,
   "id": "6b2aa81a",
   "metadata": {},
   "outputs": [],
   "source": [
    "import pandas as pd\n",
    "import numpy as np\n",
    "import matplotlib.pyplot as plt"
   ]
  },
  {
   "cell_type": "code",
   "execution_count": 2,
   "id": "44c1a1ce",
   "metadata": {},
   "outputs": [
    {
     "data": {
      "text/html": [
       "<div>\n",
       "<style scoped>\n",
       "    .dataframe tbody tr th:only-of-type {\n",
       "        vertical-align: middle;\n",
       "    }\n",
       "\n",
       "    .dataframe tbody tr th {\n",
       "        vertical-align: top;\n",
       "    }\n",
       "\n",
       "    .dataframe thead th {\n",
       "        text-align: right;\n",
       "    }\n",
       "</style>\n",
       "<table border=\"1\" class=\"dataframe\">\n",
       "  <thead>\n",
       "    <tr style=\"text-align: right;\">\n",
       "      <th></th>\n",
       "      <th>Species</th>\n",
       "      <th>Weight</th>\n",
       "      <th>Length</th>\n",
       "      <th>Height</th>\n",
       "      <th>Width</th>\n",
       "    </tr>\n",
       "  </thead>\n",
       "  <tbody>\n",
       "    <tr>\n",
       "      <th>0</th>\n",
       "      <td>Bream</td>\n",
       "      <td>242.0</td>\n",
       "      <td>25.4</td>\n",
       "      <td>11.5200</td>\n",
       "      <td>4.0200</td>\n",
       "    </tr>\n",
       "    <tr>\n",
       "      <th>1</th>\n",
       "      <td>Bream</td>\n",
       "      <td>290.0</td>\n",
       "      <td>26.3</td>\n",
       "      <td>12.4800</td>\n",
       "      <td>4.3056</td>\n",
       "    </tr>\n",
       "    <tr>\n",
       "      <th>2</th>\n",
       "      <td>Bream</td>\n",
       "      <td>340.0</td>\n",
       "      <td>26.5</td>\n",
       "      <td>12.3778</td>\n",
       "      <td>4.6961</td>\n",
       "    </tr>\n",
       "    <tr>\n",
       "      <th>3</th>\n",
       "      <td>Bream</td>\n",
       "      <td>363.0</td>\n",
       "      <td>29.0</td>\n",
       "      <td>12.7300</td>\n",
       "      <td>4.4555</td>\n",
       "    </tr>\n",
       "    <tr>\n",
       "      <th>4</th>\n",
       "      <td>Bream</td>\n",
       "      <td>430.0</td>\n",
       "      <td>29.0</td>\n",
       "      <td>12.4440</td>\n",
       "      <td>5.1340</td>\n",
       "    </tr>\n",
       "    <tr>\n",
       "      <th>...</th>\n",
       "      <td>...</td>\n",
       "      <td>...</td>\n",
       "      <td>...</td>\n",
       "      <td>...</td>\n",
       "      <td>...</td>\n",
       "    </tr>\n",
       "    <tr>\n",
       "      <th>154</th>\n",
       "      <td>Smelt</td>\n",
       "      <td>12.2</td>\n",
       "      <td>12.2</td>\n",
       "      <td>2.0904</td>\n",
       "      <td>1.3936</td>\n",
       "    </tr>\n",
       "    <tr>\n",
       "      <th>155</th>\n",
       "      <td>Smelt</td>\n",
       "      <td>13.4</td>\n",
       "      <td>12.4</td>\n",
       "      <td>2.4300</td>\n",
       "      <td>1.2690</td>\n",
       "    </tr>\n",
       "    <tr>\n",
       "      <th>156</th>\n",
       "      <td>Smelt</td>\n",
       "      <td>12.2</td>\n",
       "      <td>13.0</td>\n",
       "      <td>2.2770</td>\n",
       "      <td>1.2558</td>\n",
       "    </tr>\n",
       "    <tr>\n",
       "      <th>157</th>\n",
       "      <td>Smelt</td>\n",
       "      <td>19.7</td>\n",
       "      <td>14.3</td>\n",
       "      <td>2.8728</td>\n",
       "      <td>2.0672</td>\n",
       "    </tr>\n",
       "    <tr>\n",
       "      <th>158</th>\n",
       "      <td>Smelt</td>\n",
       "      <td>19.9</td>\n",
       "      <td>15.0</td>\n",
       "      <td>2.9322</td>\n",
       "      <td>1.8792</td>\n",
       "    </tr>\n",
       "  </tbody>\n",
       "</table>\n",
       "<p>159 rows × 5 columns</p>\n",
       "</div>"
      ],
      "text/plain": [
       "    Species  Weight  Length   Height   Width\n",
       "0     Bream   242.0    25.4  11.5200  4.0200\n",
       "1     Bream   290.0    26.3  12.4800  4.3056\n",
       "2     Bream   340.0    26.5  12.3778  4.6961\n",
       "3     Bream   363.0    29.0  12.7300  4.4555\n",
       "4     Bream   430.0    29.0  12.4440  5.1340\n",
       "..      ...     ...     ...      ...     ...\n",
       "154   Smelt    12.2    12.2   2.0904  1.3936\n",
       "155   Smelt    13.4    12.4   2.4300  1.2690\n",
       "156   Smelt    12.2    13.0   2.2770  1.2558\n",
       "157   Smelt    19.7    14.3   2.8728  2.0672\n",
       "158   Smelt    19.9    15.0   2.9322  1.8792\n",
       "\n",
       "[159 rows x 5 columns]"
      ]
     },
     "execution_count": 2,
     "metadata": {},
     "output_type": "execute_result"
    }
   ],
   "source": [
    "fish_all = pd.read_csv(\"Fish.csv\")\n",
    "fish_all"
   ]
  },
  {
   "cell_type": "code",
   "execution_count": 3,
   "id": "656d04cc",
   "metadata": {},
   "outputs": [
    {
     "name": "stdout",
     "output_type": "stream",
     "text": [
      "['Bream' 'Roach' 'Whitefish' 'Parkki' 'Perch' 'Pike' 'Smelt']\n"
     ]
    }
   ],
   "source": [
    "print(pd.unique(fish_all['Species']))"
   ]
  },
  {
   "cell_type": "code",
   "execution_count": 4,
   "id": "39ff67ab",
   "metadata": {},
   "outputs": [
    {
     "data": {
      "text/plain": [
       "array([[242.    ,  25.4   ,  11.52  ,   4.02  ],\n",
       "       [290.    ,  26.3   ,  12.48  ,   4.3056],\n",
       "       [340.    ,  26.5   ,  12.3778,   4.6961],\n",
       "       [363.    ,  29.    ,  12.73  ,   4.4555],\n",
       "       [430.    ,  29.    ,  12.444 ,   5.134 ]])"
      ]
     },
     "execution_count": 4,
     "metadata": {},
     "output_type": "execute_result"
    }
   ],
   "source": [
    "fish_input = fish_all.drop(['Species'], axis = 1)\n",
    "\n",
    "fish_input = fish_input.to_numpy()\n",
    "fish_input[:5]"
   ]
  },
  {
   "cell_type": "code",
   "execution_count": 5,
   "id": "41ea317b",
   "metadata": {},
   "outputs": [
    {
     "data": {
      "text/plain": [
       "array(['Bream', 'Bream', 'Bream', 'Bream', 'Bream'], dtype=object)"
      ]
     },
     "execution_count": 5,
     "metadata": {},
     "output_type": "execute_result"
    }
   ],
   "source": [
    "fish_target = fish_all['Species']\n",
    "\n",
    "fish_target = fish_target.to_numpy()\n",
    "fish_target[:5]"
   ]
  },
  {
   "cell_type": "code",
   "execution_count": 6,
   "id": "067f01d0",
   "metadata": {},
   "outputs": [
    {
     "name": "stdout",
     "output_type": "stream",
     "text": [
      "(119, 4) (119,)\n",
      "(40, 4) (40,)\n"
     ]
    }
   ],
   "source": [
    "from sklearn.model_selection import train_test_split\n",
    "\n",
    "train_input, test_input, train_target, test_target = train_test_split(fish_input, fish_target, stratify = fish_target, random_state = 42)\n",
    "\n",
    "print(train_input.shape, train_target.shape)\n",
    "print(test_input.shape, test_target.shape)"
   ]
  },
  {
   "cell_type": "code",
   "execution_count": 11,
   "id": "2256bed9",
   "metadata": {},
   "outputs": [
    {
     "name": "stdout",
     "output_type": "stream",
     "text": [
      "[[-0.75628803 -0.66065677 -0.78015159 -0.45043644]\n",
      " [-0.45991057 -0.1248453  -0.4293487   0.03516919]\n",
      " [ 0.07356886  0.0212851   0.79541208  0.37481797]\n",
      " [ 1.54063728  1.0441979   2.29283234  1.34130358]\n",
      " [-0.87483902 -0.75807703 -0.80672937 -0.5697143 ]]\n",
      "[[-0.84520127 -0.75807703 -0.70656438 -0.72566082]\n",
      " [-0.81556352 -0.72885095 -0.64263534 -0.58227616]\n",
      " [-0.96375225 -0.95291757 -0.82018436 -0.8716775 ]\n",
      " [-0.84520127 -0.95291757 -0.16608636 -0.95069758]\n",
      " [-0.93411451 -1.07956391 -0.40030299 -1.09731243]]\n"
     ]
    }
   ],
   "source": [
    "from sklearn.preprocessing import StandardScaler\n",
    "\n",
    "scaler_std = StandardScaler()\n",
    "scaler_std.fit(train_input)\n",
    "\n",
    "train_scaled = scaler_std.transform(train_input)\n",
    "test_scaled = scaler_std.transform(test_input)\n",
    "\n",
    "print(train_scaled[:5])\n",
    "print(test_scaled[:5])"
   ]
  },
  {
   "cell_type": "code",
   "execution_count": 12,
   "id": "7a8d45af",
   "metadata": {},
   "outputs": [
    {
     "data": {
      "text/plain": [
       "KNeighborsClassifier(n_neighbors=7)"
      ]
     },
     "execution_count": 12,
     "metadata": {},
     "output_type": "execute_result"
    }
   ],
   "source": [
    "from sklearn.neighbors import KNeighborsClassifier\n",
    "\n",
    "model_knc = KNeighborsClassifier(n_neighbors = 7)\n",
    "model_knc.fit(train_scaled, train_target)"
   ]
  },
  {
   "cell_type": "code",
   "execution_count": 17,
   "id": "0656e579",
   "metadata": {},
   "outputs": [
    {
     "name": "stdout",
     "output_type": "stream",
     "text": [
      "['Perch']\n"
     ]
    }
   ],
   "source": [
    "fish_prediction = model_knc.predict(test_scaled[[25]])\n",
    "print(fish_prediction)"
   ]
  },
  {
   "cell_type": "code",
   "execution_count": 18,
   "id": "9dc03597",
   "metadata": {},
   "outputs": [
    {
     "name": "stdout",
     "output_type": "stream",
     "text": [
      "[['Perch' 'Whitefish' 'Perch' 'Perch' 'Perch' 'Perch' 'Perch']]\n"
     ]
    }
   ],
   "source": [
    "indexes = model_knc.kneighbors(test_scaled[[25]], return_distance = False)\n",
    "print(train_target[indexes])"
   ]
  },
  {
   "cell_type": "code",
   "execution_count": 20,
   "id": "43f6da61",
   "metadata": {},
   "outputs": [
    {
     "name": "stdout",
     "output_type": "stream",
     "text": [
      "['Bream' 'Parkki' 'Perch' 'Pike' 'Roach' 'Smelt' 'Whitefish']\n",
      "[[0.   0.   0.86 0.   0.   0.   0.14]]\n"
     ]
    }
   ],
   "source": [
    "print(model_knc.classes_)\n",
    "\n",
    "fish_proba = model_knc.predict_proba(test_scaled[[25]])\n",
    "print(np.round(fish_proba, decimals=2))"
   ]
  },
  {
   "cell_type": "code",
   "execution_count": 25,
   "id": "51191d08",
   "metadata": {},
   "outputs": [
    {
     "name": "stdout",
     "output_type": "stream",
     "text": [
      "번호를 입력하시오 (0~39 사이): 26\n",
      "\n"
     ]
    }
   ],
   "source": [
    "index_input = int(input('번호를 입력하시오 (0~39 사이): '))\n",
    "print()\n",
    "\n",
    "fish_proba = model_knc.predict_proba([test_scaled[index_input]])"
   ]
  },
  {
   "cell_type": "code",
   "execution_count": 26,
   "id": "53bdedc5",
   "metadata": {},
   "outputs": [
    {
     "name": "stdout",
     "output_type": "stream",
     "text": [
      "26 번째 테스트 데이터는\n",
      "농어(Perch)일 확률이 42.86%\n",
      "로치(Roach)일 확률이 28.57%\n",
      "송어(Whitefish)일 확률이 28.57%\n",
      "입니다.\n"
     ]
    }
   ],
   "source": [
    "print(index_input, '번째 테스트 데이터는')\n",
    "\n",
    "if (fish_proba[0][0] != 0):\n",
    "    print(\"도미(Bream)일 확률이 %.2f%%\"%(fish_proba[0][0] * 100))\n",
    "    \n",
    "if (fish_proba[0][1] != 0):\n",
    "    print(\"곤들매기(Parkki)일 확률이 %.2f%%\"%(fish_proba[0][1] * 100))\n",
    "    \n",
    "if (fish_proba[0][2] != 0):\n",
    "    print(\"농어(Perch)일 확률이 %.2f%%\"%(fish_proba[0][2] * 100))\n",
    "    \n",
    "if (fish_proba[0][3] != 0):\n",
    "    print(\"강꼬치고기(Pike)일 확률이 %.2f%%\"%(fish_proba[0][3] * 100))\n",
    "    \n",
    "if (fish_proba[0][4] != 0):\n",
    "    print(\"로치(Roach)일 확률이 %.2f%%\"%(fish_proba[0][4] * 100))\n",
    "\n",
    "if (fish_proba[0][5] != 0):\n",
    "    print(\"빙어(Smelt)일 확률이 %.2f%%\"%(fish_proba[0][5] * 100))\n",
    "    \n",
    "if (fish_proba[0][6] != 0):\n",
    "    print(\"송어(Whitefish)일 확률이 %.2f%%\"%(fish_proba[0][6] * 100))\n",
    "    \n",
    "print(\"입니다.\")"
   ]
  },
  {
   "cell_type": "code",
   "execution_count": 27,
   "id": "bff22071",
   "metadata": {},
   "outputs": [
    {
     "name": "stdout",
     "output_type": "stream",
     "text": [
      "26 번째 테스트 데이터의\n",
      "실제 클래스는 Whitefish 입니다.\n"
     ]
    }
   ],
   "source": [
    "print(index_input, \"번째 테스트 데이터의\")\n",
    "print(\"실제 클래스는 %s 입니다.\"%(test_target[index_input]))"
   ]
  },
  {
   "cell_type": "code",
   "execution_count": 38,
   "id": "d0e06260",
   "metadata": {},
   "outputs": [
    {
     "name": "stdout",
     "output_type": "stream",
     "text": [
      "테스트 데이터로 평가한 모델의 정확도는 0.72입니다.\n"
     ]
    }
   ],
   "source": [
    "print('테스트 데이터로 평가한 모델의 정확도는 %.2f입니다.'%(model_knc.score(test_scaled, test_target)))"
   ]
  },
  {
   "cell_type": "code",
   "execution_count": 44,
   "id": "70c62d5d",
   "metadata": {},
   "outputs": [
    {
     "name": "stdout",
     "output_type": "stream",
     "text": [
      "모델이 잘못 분류한 데이터는\n",
      " 0번째\n",
      " 5번째\n",
      " 9번째\n",
      "10번째\n",
      "11번째\n",
      "14번째\n",
      "16번째\n",
      "18번째\n",
      "23번째\n",
      "26번째\n",
      "35번째\n",
      "테스트 데이터 입니다\n"
     ]
    }
   ],
   "source": [
    "print('모델이 잘못 분류한 데이터는')\n",
    "\n",
    "for i in range(0, 40):\n",
    "    if( (model_knc.predict([test_scaled[i]])) != test_target[i]):\n",
    "        print('%2d번째'%i)\n",
    "        \n",
    "print('테스트 데이터 입니다')"
   ]
  }
 ],
 "metadata": {
  "kernelspec": {
   "display_name": "Python 3 (ipykernel)",
   "language": "python",
   "name": "python3"
  },
  "language_info": {
   "codemirror_mode": {
    "name": "ipython",
    "version": 3
   },
   "file_extension": ".py",
   "mimetype": "text/x-python",
   "name": "python",
   "nbconvert_exporter": "python",
   "pygments_lexer": "ipython3",
   "version": "3.8.12"
  }
 },
 "nbformat": 4,
 "nbformat_minor": 5
}
