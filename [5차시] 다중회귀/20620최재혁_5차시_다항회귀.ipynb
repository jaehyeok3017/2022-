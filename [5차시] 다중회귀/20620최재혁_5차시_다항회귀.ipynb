{
 "cells": [
  {
   "cell_type": "code",
   "execution_count": 1,
   "metadata": {},
   "outputs": [
    {
     "name": "stdout",
     "output_type": "stream",
     "text": [
      "    Species  Weight  Length   Height   Width\n",
      "0     Bream   242.0    25.4  11.5200  4.0200\n",
      "1     Bream   290.0    26.3  12.4800  4.3056\n",
      "2     Bream   340.0    26.5  12.3778  4.6961\n",
      "3     Bream   363.0    29.0  12.7300  4.4555\n",
      "4     Bream   430.0    29.0  12.4440  5.1340\n",
      "..      ...     ...     ...      ...     ...\n",
      "154   Smelt    12.2    12.2   2.0904  1.3936\n",
      "155   Smelt    13.4    12.4   2.4300  1.2690\n",
      "156   Smelt    12.2    13.0   2.2770  1.2558\n",
      "157   Smelt    19.7    14.3   2.8728  2.0672\n",
      "158   Smelt    19.9    15.0   2.9322  1.8792\n",
      "\n",
      "[159 rows x 5 columns]\n",
      "    Species  Weight  Length   Height   Width\n",
      "72    Perch     5.9     8.4   2.1120  1.4080\n",
      "73    Perch    32.0    13.7   3.5280  1.9992\n",
      "74    Perch    40.0    15.0   3.8240  2.4320\n",
      "75    Perch    51.5    16.2   4.5924  2.6316\n",
      "76    Perch    70.0    17.4   4.5880  2.9415\n",
      "77    Perch   100.0    18.0   5.2224  3.3216\n",
      "78    Perch    78.0    18.7   5.1992  3.1234\n",
      "79    Perch    80.0    19.0   5.6358  3.0502\n",
      "80    Perch    85.0    19.6   5.1376  3.0368\n",
      "81    Perch    85.0    20.0   5.0820  2.7720\n",
      "82    Perch   110.0    21.0   5.6925  3.5550\n",
      "83    Perch   115.0    21.0   5.9175  3.3075\n",
      "84    Perch   125.0    21.0   5.6925  3.6675\n",
      "85    Perch   130.0    21.3   6.3840  3.5340\n",
      "86    Perch   120.0    22.0   6.1100  3.4075\n",
      "87    Perch   120.0    22.0   5.6400  3.5250\n",
      "88    Perch   130.0    22.0   6.1100  3.5250\n",
      "89    Perch   135.0    22.0   5.8750  3.5250\n",
      "90    Perch   110.0    22.0   5.5225  3.9950\n",
      "91    Perch   130.0    22.5   5.8560  3.6240\n",
      "92    Perch   150.0    22.5   6.7920  3.6240\n",
      "93    Perch   145.0    22.7   5.9532  3.6300\n",
      "94    Perch   150.0    23.0   5.2185  3.6260\n",
      "95    Perch   170.0    23.5   6.2750  3.7250\n",
      "96    Perch   225.0    24.0   7.2930  3.7230\n",
      "97    Perch   145.0    24.0   6.3750  3.8250\n",
      "98    Perch   188.0    24.6   6.7334  4.1658\n",
      "99    Perch   180.0    25.0   6.4395  3.6835\n",
      "100   Perch   197.0    25.6   6.5610  4.2390\n",
      "101   Perch   218.0    26.5   7.1680  4.1440\n",
      "102   Perch   300.0    27.3   8.3230  5.1373\n",
      "103   Perch   260.0    27.5   7.1672  4.3350\n",
      "104   Perch   265.0    27.5   7.0516  4.3350\n",
      "105   Perch   250.0    27.5   7.2828  4.5662\n",
      "106   Perch   250.0    28.0   7.8204  4.2042\n",
      "107   Perch   300.0    28.7   7.5852  4.6354\n",
      "108   Perch   320.0    30.0   7.6156  4.7716\n",
      "109   Perch   514.0    32.8  10.0300  6.0180\n",
      "110   Perch   556.0    34.5  10.2565  6.3875\n",
      "111   Perch   840.0    35.0  11.4884  7.7957\n",
      "112   Perch   685.0    36.5  10.8810  6.8640\n",
      "113   Perch   700.0    36.0  10.6091  6.7408\n",
      "114   Perch   700.0    37.0  10.8350  6.2646\n",
      "115   Perch   690.0    37.0  10.5717  6.3666\n",
      "116   Perch   900.0    39.0  11.1366  7.4934\n",
      "117   Perch   650.0    39.0  11.1366  6.0030\n",
      "118   Perch   820.0    39.0  12.4313  7.3514\n",
      "119   Perch   850.0    40.0  11.9286  7.1064\n",
      "120   Perch   900.0    40.0  11.7300  7.2250\n",
      "121   Perch  1015.0    40.0  12.3808  7.4624\n",
      "122   Perch   820.0    40.0  11.1350  6.6300\n",
      "123   Perch  1100.0    42.0  12.8002  6.8684\n",
      "124   Perch  1000.0    43.0  11.9328  7.2772\n",
      "125   Perch  1100.0    43.0  12.5125  7.4165\n",
      "126   Perch  1000.0    43.5  12.6040  8.1420\n",
      "127   Perch  1000.0    44.0  12.4888  7.5958\n",
      "(56,)\n",
      "(56, 1)\n",
      "[[ 8.4]\n",
      " [13.7]\n",
      " [15. ]\n",
      " [16.2]\n",
      " [17.4]]\n",
      "(56,)\n",
      "(56, 1)\n",
      "[[ 5.9]\n",
      " [32. ]\n",
      " [40. ]\n",
      " [51.5]\n",
      " [70. ]]\n"
     ]
    },
    {
     "name": "stderr",
     "output_type": "stream",
     "text": [
      "C:\\ProgramData\\Anaconda3\\lib\\site-packages\\matplotlib\\backends\\backend_agg.py:211: RuntimeWarning: Glyph 44600 missing from current font.\n",
      "  font.set_text(s, 0.0, flags=flags)\n",
      "C:\\ProgramData\\Anaconda3\\lib\\site-packages\\matplotlib\\backends\\backend_agg.py:211: RuntimeWarning: Glyph 51060 missing from current font.\n",
      "  font.set_text(s, 0.0, flags=flags)\n",
      "C:\\ProgramData\\Anaconda3\\lib\\site-packages\\matplotlib\\backends\\backend_agg.py:180: RuntimeWarning: Glyph 44600 missing from current font.\n",
      "  font.set_text(s, 0, flags=flags)\n",
      "C:\\ProgramData\\Anaconda3\\lib\\site-packages\\matplotlib\\backends\\backend_agg.py:180: RuntimeWarning: Glyph 51060 missing from current font.\n",
      "  font.set_text(s, 0, flags=flags)\n",
      "C:\\ProgramData\\Anaconda3\\lib\\site-packages\\matplotlib\\backends\\backend_agg.py:211: RuntimeWarning: Glyph 47924 missing from current font.\n",
      "  font.set_text(s, 0.0, flags=flags)\n",
      "C:\\ProgramData\\Anaconda3\\lib\\site-packages\\matplotlib\\backends\\backend_agg.py:211: RuntimeWarning: Glyph 44172 missing from current font.\n",
      "  font.set_text(s, 0.0, flags=flags)\n",
      "C:\\ProgramData\\Anaconda3\\lib\\site-packages\\matplotlib\\backends\\backend_agg.py:180: RuntimeWarning: Glyph 47924 missing from current font.\n",
      "  font.set_text(s, 0, flags=flags)\n",
      "C:\\ProgramData\\Anaconda3\\lib\\site-packages\\matplotlib\\backends\\backend_agg.py:180: RuntimeWarning: Glyph 44172 missing from current font.\n",
      "  font.set_text(s, 0, flags=flags)\n"
     ]
    },
    {
     "data": {
      "image/png": "[encoded data removed]",
      "text/plain": [
       "<Figure size 432x288 with 1 Axes>"
      ]
     },
     "metadata": {
      "needs_background": "light"
     },
     "output_type": "display_data"
    },
    {
     "name": "stdout",
     "output_type": "stream",
     "text": [
      "[[279.]]\n"
     ]
    },
    {
     "data": {
      "image/png": "[encoded data removed]",
      "text/plain": [
       "<Figure size 432x288 with 1 Axes>"
      ]
     },
     "metadata": {
      "needs_background": "light"
     },
     "output_type": "display_data"
    },
    {
     "data": {
      "image/png": "[encoded data removed]",
      "text/plain": [
       "<Figure size 432x288 with 1 Axes>"
      ]
     },
     "metadata": {
      "needs_background": "light"
     },
     "output_type": "display_data"
    },
    {
     "name": "stdout",
     "output_type": "stream",
     "text": [
      "0.9793648682718722\n",
      "30.569285714285716\n"
     ]
    }
   ],
   "source": [
    "#### k-최근접 이웃 회귀_구현_소스 코드 ####\n",
    "\n",
    "import pandas as pd\n",
    "import numpy as np\n",
    "import matplotlib.pyplot as plt \n",
    "\n",
    "## 내가 관리하는 모든 생선들의 데이터 확인해보기 ##\n",
    "fish_all = pd.read_csv('Fish.csv')\n",
    "print(fish_all)\n",
    "\n",
    "\n",
    "## 생선 데이터 중, 농어(Perch) 데이터 확인해보기 ##\n",
    "print(fish_all[fish_all['Species'] == 'Perch'])\n",
    "\n",
    "\n",
    "## 농어 데이터 추출하기 ## \n",
    "fish_perch = fish_all[fish_all['Species'] == 'Perch'] \n",
    "\n",
    "\n",
    "## 학습에 사용할 데이터 준비하기 : 농어의 '길이 (Length)' = 독립 변수 ##\n",
    "perch_length = fish_perch['Length']\n",
    "print(perch_length.shape)\n",
    "\n",
    "perch_length = perch_length.to_numpy()\n",
    "perch_length = perch_length.reshape(-1, 1)\n",
    "print(perch_length.shape)\n",
    "\n",
    "print(perch_length[:5])\n",
    "\n",
    "\n",
    "## 학습에 사용할 데이터 준비하기 : 농어의 '무게 (Weight)' = 종속 변수 ##\n",
    "perch_weight = fish_perch['Weight']\n",
    "print(perch_weight.shape)\n",
    "\n",
    "perch_weight = perch_weight.to_numpy() \n",
    "perch_weight = perch_weight.reshape(-1, 1)\n",
    "print(perch_weight.shape)\n",
    "\n",
    "print(perch_weight[:5])\n",
    "\n",
    "\n",
    "## 준비한 농어 데이터 분포 확인해보기 : 독립 변수 = 길이, 종속 변수 = 무게 ##\n",
    "plt.scatter(perch_length, perch_weight)\n",
    "\n",
    "plt.rc('font', family = 'Malgun Gothic') \n",
    "plt.xlabel('길이')    \n",
    "plt.ylabel('무게')    \n",
    "\n",
    "plt.show()\n",
    "\n",
    "\n",
    "## k-최근접 이웃 회귀 알고리즘으로 학습시키기 ##\n",
    "from sklearn.neighbors import KNeighborsRegressor\n",
    "\n",
    "model_knr = KNeighborsRegressor()\n",
    "model_knr.fit(perch_length, perch_weight)\n",
    "\n",
    "\n",
    "## 학습시킨 모델로 농어의 무게 예측해보기 ##\n",
    "length_for_weight = [[30]]\n",
    "predict_weight = model_knr.predict(length_for_weight)\n",
    "\n",
    "print(predict_weight)\n",
    "\n",
    "\n",
    "## 예측한 값의 위치 확인해보기 ##\n",
    "plt.scatter(perch_length, perch_weight)\n",
    "plt.scatter(length_for_weight, predict_weight)\n",
    "\n",
    "plt.xlabel('길이')\n",
    "plt.ylabel('무게')\n",
    "\n",
    "plt.show()\n",
    "\n",
    "\n",
    "## 학습시킨 모델의 추세선 나타내보기 ##\n",
    "predict_line = np.arange(10, 45).reshape(-1, 1) \n",
    "\n",
    "plt.scatter(perch_length, perch_weight)\n",
    "plt.plot(predict_line, model_knr.predict(predict_line), \"r\")\n",
    "\n",
    "plt.xlabel('길이')\n",
    "plt.ylabel('무게')\n",
    "\n",
    "plt.show()\n",
    "\n",
    "\n",
    "#### k-최근접 이웃 회귀_성능 확인_소스 코드 ####\n",
    "\n",
    "## 학습시킨 모델의 성능 확인해보기 ##\n",
    "score_knr = model_knr.score(perch_length, perch_weight)                \n",
    "print(score_knr)\n",
    "\n",
    "\n",
    "## 평균 절댓값 오차 계산 함수로 모델의 성능 확인해보기 ##\n",
    "from sklearn.metrics import mean_absolute_error\n",
    "\n",
    "weight_predict = model_knr.predict(perch_length)\n",
    "\n",
    "score_mae = mean_absolute_error(perch_weight, weight_predict)\n",
    "print(score_mae)"
   ]
  },
  {
   "cell_type": "code",
   "execution_count": 2,
   "metadata": {},
   "outputs": [
    {
     "data": {
      "image/png": "[encoded data removed]",
      "text/plain": [
       "<Figure size 432x288 with 1 Axes>"
      ]
     },
     "metadata": {
      "needs_background": "light"
     },
     "output_type": "display_data"
    },
    {
     "name": "stdout",
     "output_type": "stream",
     "text": [
      "0.9823618210143489\n",
      "15.267857142857142\n"
     ]
    },
    {
     "data": {
      "image/png": "[encoded data removed]",
      "text/plain": [
       "<Figure size 432x288 with 1 Axes>"
      ]
     },
     "metadata": {
      "needs_background": "light"
     },
     "output_type": "display_data"
    },
    {
     "name": "stdout",
     "output_type": "stream",
     "text": [
      "0.9793648682718722\n",
      "30.569285714285716\n"
     ]
    },
    {
     "data": {
      "image/png": "[encoded data removed]",
      "text/plain": [
       "<Figure size 432x288 with 1 Axes>"
      ]
     },
     "metadata": {
      "needs_background": "light"
     },
     "output_type": "display_data"
    },
    {
     "name": "stdout",
     "output_type": "stream",
     "text": [
      "0.9758051075466483\n",
      "35.35053571428572\n"
     ]
    }
   ],
   "source": [
    "model_knr_1 = KNeighborsRegressor()\n",
    "model_knr_1.n_neighbors = 1\n",
    "model_knr_1.fit(perch_length, perch_weight)\n",
    "\n",
    "model_knr_5 = KNeighborsRegressor()\n",
    "model_knr_5.n_neighbors = 5\n",
    "model_knr_5.fit(perch_length, perch_weight)\n",
    "\n",
    "model_knr_10 = KNeighborsRegressor()\n",
    "model_knr_10.n_neighbors = 10\n",
    "model_knr_10.fit(perch_length, perch_weight)\n",
    "\n",
    "\n",
    "x = np.arange(10, 45).reshape(-1, 1)\n",
    "prediction_line_k1 = model_knr_1.predict(x)\n",
    "\n",
    "plt.rc('font', family = 'Malgun Gothic')\n",
    "plt.xlabel('길이')\n",
    "plt.ylabel('무게')\n",
    "\n",
    "plt.scatter(perch_length, perch_weight)\n",
    "plt.plot(x, prediction_line_k1, \"r\")\n",
    "\n",
    "plt.show()\n",
    "\n",
    "score_k1 = model_knr_1.score(perch_length, perch_weight)\n",
    "print(score_k1)\n",
    "\n",
    "score_mae_k1 = mean_absolute_error(perch_weight, model_knr_1.predict(perch_length))\n",
    "print(score_mae_k1)\n",
    "\n",
    "\n",
    "prediction_line_k5 = model_knr_5.predict(x)\n",
    "\n",
    "plt.rc('font', family = 'Malgun Gothic')\n",
    "plt.xlabel('길이')\n",
    "plt.ylabel('무게')\n",
    "\n",
    "plt.scatter(perch_length, perch_weight)\n",
    "plt.plot(x, prediction_line_k5, \"r\")\n",
    "\n",
    "plt.show()\n",
    "\n",
    "score_k5 = model_knr_5.score(perch_length, perch_weight)\n",
    "print(score_k5)\n",
    "\n",
    "score_mae_k5 = mean_absolute_error(perch_weight, model_knr_5.predict(perch_length))\n",
    "print(score_mae_k5)\n",
    "\n",
    "\n",
    "prediction_line_k10 = model_knr_10.predict(x)\n",
    "\n",
    "plt.rc('font', family = 'Malgun Gothic')\n",
    "plt.xlabel('길이')\n",
    "plt.ylabel('무게')\n",
    "\n",
    "plt.scatter(perch_length, perch_weight)\n",
    "plt.plot(x, prediction_line_k10, \"r\")\n",
    "\n",
    "plt.show()\n",
    "\n",
    "score_k10 = model_knr_10.score(perch_length, perch_weight)\n",
    "print(score_k10)\n",
    "\n",
    "score_mae_k10 = mean_absolute_error(perch_weight, model_knr_10.predict(perch_length))\n",
    "print(score_mae_k10)"
   ]
  },
  {
   "cell_type": "code",
   "execution_count": 3,
   "metadata": {},
   "outputs": [
    {
     "name": "stdout",
     "output_type": "stream",
     "text": [
      "(42, 1) (42, 1) (14, 1) (14, 1)\n"
     ]
    }
   ],
   "source": [
    "from sklearn.model_selection import train_test_split\n",
    "\n",
    "train_input, test_input, train_target, test_target = train_test_split(perch_length, perch_weight, random_state = 42)\n",
    "\n",
    "print(train_input.shape, train_target.shape, test_input.shape, test_target.shape)"
   ]
  },
  {
   "cell_type": "code",
   "execution_count": 4,
   "metadata": {},
   "outputs": [
    {
     "data": {
      "image/png": "[encoded data removed]",
      "text/plain": [
       "<Figure size 432x288 with 1 Axes>"
      ]
     },
     "metadata": {
      "needs_background": "light"
     },
     "output_type": "display_data"
    }
   ],
   "source": [
    "plt.scatter(train_input, train_target)\n",
    "plt.scatter(test_input, test_target)\n",
    "\n",
    "plt.rc('font', family = 'Malgun Gothic')\n",
    "plt.xlabel('길이')\n",
    "plt.ylabel('무게')\n",
    "\n",
    "plt.show()"
   ]
  },
  {
   "cell_type": "code",
   "execution_count": 5,
   "metadata": {},
   "outputs": [
    {
     "data": {
      "text/plain": [
       "KNeighborsRegressor(algorithm='auto', leaf_size=30, metric='minkowski',\n",
       "                    metric_params=None, n_jobs=None, n_neighbors=5, p=2,\n",
       "                    weights='uniform')"
      ]
     },
     "execution_count": 5,
     "metadata": {},
     "output_type": "execute_result"
    }
   ],
   "source": [
    "from sklearn.neighbors import KNeighborsRegressor\n",
    "\n",
    "model_knr = KNeighborsRegressor()\n",
    "model_knr.fit(train_input, train_target)"
   ]
  },
  {
   "cell_type": "code",
   "execution_count": 6,
   "metadata": {},
   "outputs": [
    {
     "data": {
      "image/png": "[encoded data removed]",
      "text/plain": [
       "<Figure size 432x288 with 1 Axes>"
      ]
     },
     "metadata": {
      "needs_background": "light"
     },
     "output_type": "display_data"
    }
   ],
   "source": [
    "x = np.arange(5, 45).reshape(-1, 1)\n",
    "\n",
    "plt.scatter(train_input, train_target)\n",
    "plt.scatter(test_input, test_target)\n",
    "plt.plot(x, model_knr.predict(x), \"r\")\n",
    "\n",
    "plt.rc('font', family = 'Malgun Gothic')\n",
    "plt.xlabel('길이')\n",
    "plt.ylabel('무게')\n",
    "\n",
    "plt.show()"
   ]
  },
  {
   "cell_type": "code",
   "execution_count": 7,
   "metadata": {},
   "outputs": [
    {
     "name": "stdout",
     "output_type": "stream",
     "text": [
      "[[311.4]]\n"
     ]
    }
   ],
   "source": [
    "lnegth_for_weight = [[30]]\n",
    "\n",
    "predict_weight = model_knr.predict(length_for_weight)\n",
    "print(predict_weight)"
   ]
  },
  {
   "cell_type": "code",
   "execution_count": 8,
   "metadata": {},
   "outputs": [
    {
     "name": "stdout",
     "output_type": "stream",
     "text": [
      "0.9928094061010639\n",
      "19.157142857142862\n"
     ]
    }
   ],
   "source": [
    "score_knr = model_knr.score(test_input, test_target)\n",
    "print(score_knr)\n",
    "\n",
    "from sklearn.metrics import mean_absolute_error\n",
    "\n",
    "score_mae = mean_absolute_error(test_target, model_knr.predict(test_input))\n",
    "print(score_mae)"
   ]
  },
  {
   "cell_type": "code",
   "execution_count": 9,
   "metadata": {},
   "outputs": [
    {
     "name": "stdout",
     "output_type": "stream",
     "text": [
      "0.9698823289099255\n",
      "0.9928094061010639\n"
     ]
    }
   ],
   "source": [
    "score_train = model_knr.score(train_input, train_target)\n",
    "print(score_train)\n",
    "\n",
    "score_target = model_knr.score(test_input, test_target)\n",
    "print(score_target)"
   ]
  },
  {
   "cell_type": "code",
   "execution_count": 10,
   "metadata": {},
   "outputs": [
    {
     "name": "stdout",
     "output_type": "stream",
     "text": [
      "0.9804899950518966\n",
      "0.974645996398761\n"
     ]
    }
   ],
   "source": [
    "model_knr3 = KNeighborsRegressor()\n",
    "model_knr3.n_neighbors = 3\n",
    "\n",
    "model_knr3.fit(train_input, train_target)\n",
    "\n",
    "score_train3 = model_knr3.score(train_input, train_target)\n",
    "print(score_train3)\n",
    "\n",
    "score_test3 = model_knr3.score(test_input, test_target)\n",
    "print(score_test3)"
   ]
  },
  {
   "cell_type": "code",
   "execution_count": 11,
   "metadata": {},
   "outputs": [
    {
     "data": {
      "image/png": "[encoded data removed]",
      "text/plain": [
       "<Figure size 432x288 with 1 Axes>"
      ]
     },
     "metadata": {
      "needs_background": "light"
     },
     "output_type": "display_data"
    }
   ],
   "source": [
    "x = np.arange(5, 45).reshape(-1, 1)\n",
    "\n",
    "plt.scatter(train_input, train_target)\n",
    "plt.scatter(test_input, test_target)\n",
    "plt.plot(x, model_knr3.predict(x), \"r\")\n",
    "\n",
    "plt.rc('font', family = 'Malgun Gothic')\n",
    "plt.xlabel('길이')\n",
    "plt.ylabel('무게')\n",
    "\n",
    "plt.show()"
   ]
  },
  {
   "cell_type": "code",
   "execution_count": 12,
   "metadata": {},
   "outputs": [
    {
     "name": "stdout",
     "output_type": "stream",
     "text": [
      "[[1033.33333333]]\n",
      "[[1033.33333333]]\n"
     ]
    }
   ],
   "source": [
    "# K - 최근접 알고리즘의 한계 ( 50kg, 60kg의 예측값이 같음 )\n",
    "\n",
    "print(model_knr3.predict([[50]]))\n",
    "print(model_knr3.predict([[60]]))"
   ]
  },
  {
   "cell_type": "code",
   "execution_count": 13,
   "metadata": {},
   "outputs": [
    {
     "data": {
      "text/plain": [
       "LinearRegression(copy_X=True, fit_intercept=True, n_jobs=None, normalize=False)"
      ]
     },
     "execution_count": 13,
     "metadata": {},
     "output_type": "execute_result"
    }
   ],
   "source": [
    "from sklearn.model_selection import train_test_split\n",
    "\n",
    "train_input, test_input, train_target, test_target = train_test_split(perch_length, perch_weight, random_state = 42)\n",
    "\n",
    "from sklearn.linear_model import LinearRegression\n",
    "model_lr = LinearRegression()\n",
    "model_lr.fit(train_input, train_target)"
   ]
  },
  {
   "cell_type": "code",
   "execution_count": 14,
   "metadata": {},
   "outputs": [
    {
     "name": "stdout",
     "output_type": "stream",
     "text": [
      "[[1241.83860323]]\n",
      "[[1632.01005286]]\n"
     ]
    }
   ],
   "source": [
    "print(model_lr.predict([[50]]))\n",
    "print(model_lr.predict([[60]]))"
   ]
  },
  {
   "cell_type": "code",
   "execution_count": 15,
   "metadata": {},
   "outputs": [
    {
     "data": {
      "image/png": "[encoded data removed]",
      "text/plain": [
       "<Figure size 432x288 with 1 Axes>"
      ]
     },
     "metadata": {
      "needs_background": "light"
     },
     "output_type": "display_data"
    }
   ],
   "source": [
    "x = np.arange(15, 50).reshape(-1, 1)\n",
    "\n",
    "plt.scatter(train_input, train_target)\n",
    "plt.scatter(test_input, test_target)\n",
    "plt.plot(x, model_lr.predict(x), \"r\")\n",
    "\n",
    "plt.rc('font', family='Malgun Gothic')\n",
    "plt.xlabel('길이')\n",
    "plt.ylabel('무게')\n",
    "\n",
    "plt.show()"
   ]
  },
  {
   "cell_type": "code",
   "execution_count": 16,
   "metadata": {},
   "outputs": [
    {
     "name": "stdout",
     "output_type": "stream",
     "text": [
      "[[39.01714496]] [-709.01864495]\n",
      "모델이 나타내는 추세선의 기울기 :  39.0171449636302\n",
      "모델이 나타내는 추세선의 절편 :  -709.0186449535477\n",
      "모델이 나타내는 추세선 : y = 39.017145x -709.018645\n"
     ]
    }
   ],
   "source": [
    "a = model_lr.coef_\n",
    "b = model_lr.intercept_\n",
    "\n",
    "print(a, b)\n",
    "print(\"모델이 나타내는 추세선의 기울기 : \", a[0][0])\n",
    "print(\"모델이 나타내는 추세선의 절편 : \", b[0])\n",
    "print(\"모델이 나타내는 추세선 : y = %fx %+f\"%(a, b))"
   ]
  },
  {
   "cell_type": "code",
   "execution_count": 17,
   "metadata": {},
   "outputs": [
    {
     "name": "stdout",
     "output_type": "stream",
     "text": [
      "0.9398463339976039\n",
      "0.8247503123313558\n"
     ]
    }
   ],
   "source": [
    "score_train_lr = model_lr.score(train_input, train_target)\n",
    "print(score_train_lr)\n",
    "\n",
    "score_test_lr = model_lr.score(test_input, test_target)\n",
    "print(score_test_lr)"
   ]
  },
  {
   "cell_type": "code",
   "execution_count": 18,
   "metadata": {},
   "outputs": [
    {
     "name": "stdout",
     "output_type": "stream",
     "text": [
      "[[  19.6   384.16]\n",
      " [  22.    484.  ]\n",
      " [  18.7   349.69]\n",
      " [  17.4   302.76]\n",
      " [  36.   1296.  ]]\n",
      "(42, 2)\n",
      "[[  8.4   70.56]\n",
      " [ 18.   324.  ]\n",
      " [ 27.5  756.25]\n",
      " [ 21.3  453.69]\n",
      " [ 22.5  506.25]]\n",
      "(14, 2)\n"
     ]
    }
   ],
   "source": [
    "train_input_poly = np.column_stack((train_input, train_input ** 2))\n",
    "print(train_input_poly[0:5])\n",
    "print(train_input_poly.shape)\n",
    "\n",
    "test_input_poly = np.column_stack((test_input, test_input ** 2))\n",
    "print(test_input_poly[0:5])\n",
    "print(test_input_poly.shape)"
   ]
  },
  {
   "cell_type": "code",
   "execution_count": 20,
   "metadata": {},
   "outputs": [
    {
     "name": "stdout",
     "output_type": "stream",
     "text": [
      "[[  19.6   384.16]\n",
      " [  22.    484.  ]\n",
      " [  18.7   349.69]\n",
      " [  17.4   302.76]\n",
      " [  36.   1296.  ]]\n",
      "[[  8.4   70.56]\n",
      " [ 18.   324.  ]\n",
      " [ 27.5  756.25]\n",
      " [ 21.3  453.69]\n",
      " [ 22.5  506.25]]\n"
     ]
    }
   ],
   "source": [
    "from sklearn.preprocessing import PolynomialFeatures\n",
    "\n",
    "poly_d2 = PolynomialFeatures(degree = 2, include_bias = False)\n",
    "\n",
    "train_poly = poly_d2.fit_transform(train_input)\n",
    "print(train_poly[0:5])\n",
    "\n",
    "test_poly = poly_d2.fit_transform(test_input)\n",
    "print(test_poly[0:5])"
   ]
  },
  {
   "cell_type": "code",
   "execution_count": 25,
   "metadata": {},
   "outputs": [
    {
     "name": "stdout",
     "output_type": "stream",
     "text": [
      "[[1573.98423528]]\n"
     ]
    }
   ],
   "source": [
    "model_lr_poly = LinearRegression()\n",
    "model_lr_poly.fit(train_poly, train_target)\n",
    "\n",
    "print(model_lr_poly.predict([[50, 50**2]]))"
   ]
  },
  {
   "cell_type": "code",
   "execution_count": 26,
   "metadata": {},
   "outputs": [
    {
     "data": {
      "image/png": "[encoded data removed]",
      "text/plain": [
       "<Figure size 432x288 with 1 Axes>"
      ]
     },
     "metadata": {
      "needs_background": "light"
     },
     "output_type": "display_data"
    }
   ],
   "source": [
    "x = np.arange(5, 50).reshape(-1, 1)\n",
    "x_poly = poly_d2.fit_transform(x)\n",
    "\n",
    "plt.scatter(train_input, train_target)\n",
    "plt.scatter(test_input, test_target)\n",
    "plt.plot(x, model_lr_poly.predict(x_poly), \"r\")\n",
    "\n",
    "plt.rc('font', family = 'Malgun Gothic')\n",
    "plt.xlabel('길이')\n",
    "plt.ylabel('무게')\n",
    "plt.show()"
   ]
  },
  {
   "cell_type": "code",
   "execution_count": 30,
   "metadata": {},
   "outputs": [
    {
     "name": "stdout",
     "output_type": "stream",
     "text": [
      "[[-21.55792498   1.01433211]] [116.05021078]\n",
      "모델이 나타내는 추세선의 1차항 계수 :  -21.557924978837402\n",
      "모델이 나타내는 추세선의 2차항 계수 :  1.0143321093767306\n",
      "모델이 나타내는 추세선의 절편 :  116.05021078278372\n",
      "모델이 나타내는 추세선 : y = +1.014332 x^2 -21.557925 x +116.050211\n"
     ]
    }
   ],
   "source": [
    "a_poly = model_lr_poly.coef_\n",
    "b_poly = model_lr_poly.intercept_\n",
    "\n",
    "print(a_poly, b_poly)\n",
    "print(\"모델이 나타내는 추세선의 1차항 계수 : \", a_poly[0][0])\n",
    "print(\"모델이 나타내는 추세선의 2차항 계수 : \", a_poly[0][1])\n",
    "print(\"모델이 나타내는 추세선의 절편 : \", b_poly[0])\n",
    "print(\"모델이 나타내는 추세선 : y = %+f x^2 %+f x %+f\"%(a_poly[0][1], a_poly[0][0], b_poly[0]))"
   ]
  },
  {
   "cell_type": "code",
   "execution_count": 31,
   "metadata": {},
   "outputs": [
    {
     "name": "stdout",
     "output_type": "stream",
     "text": [
      "0.9706807451768623\n",
      "0.9775935108325123\n"
     ]
    }
   ],
   "source": [
    "score_train_lr_poly = model_lr_poly.score(train_poly, train_target)\n",
    "print(score_train_lr_poly)\n",
    "\n",
    "score_test_lr_poly = model_lr_poly.score(test_poly, test_target)\n",
    "print(score_test_lr_poly)"
   ]
  },
  {
   "cell_type": "code",
   "execution_count": null,
   "metadata": {},
   "outputs": [],
   "source": []
  }
 ],
 "metadata": {
  "kernelspec": {
   "display_name": "Python 3",
   "language": "python",
   "name": "python3"
  },
  "language_info": {
   "codemirror_mode": {
    "name": "ipython",
    "version": 3
   },
   "file_extension": ".py",
   "mimetype": "text/x-python",
   "name": "python",
   "nbconvert_exporter": "python",
   "pygments_lexer": "ipython3",
   "version": "3.7.6"
  }
 },
 "nbformat": 4,
 "nbformat_minor": 5
}
