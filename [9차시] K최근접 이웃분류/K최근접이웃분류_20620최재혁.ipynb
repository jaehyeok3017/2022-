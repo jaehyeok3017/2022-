{
 "cells": [
  {
   "cell_type": "code",
   "execution_count": 1,
   "metadata": {},
   "outputs": [],
   "source": [
    "import pandas as pd\n",
    "import numpy as np\n",
    "import matplotlib.pyplot as plt"
   ]
  },
  {
   "cell_type": "code",
   "execution_count": 13,
   "metadata": {},
   "outputs": [
    {
     "data": {
      "text/html": [
       "<div>\n",
       "<style scoped>\n",
       "    .dataframe tbody tr th:only-of-type {\n",
       "        vertical-align: middle;\n",
       "    }\n",
       "\n",
       "    .dataframe tbody tr th {\n",
       "        vertical-align: top;\n",
       "    }\n",
       "\n",
       "    .dataframe thead th {\n",
       "        text-align: right;\n",
       "    }\n",
       "</style>\n",
       "<table border=\"1\" class=\"dataframe\">\n",
       "  <thead>\n",
       "    <tr style=\"text-align: right;\">\n",
       "      <th></th>\n",
       "      <th>Species</th>\n",
       "      <th>Weight</th>\n",
       "      <th>Length</th>\n",
       "      <th>Height</th>\n",
       "      <th>Width</th>\n",
       "    </tr>\n",
       "  </thead>\n",
       "  <tbody>\n",
       "    <tr>\n",
       "      <th>0</th>\n",
       "      <td>Bream</td>\n",
       "      <td>242.0</td>\n",
       "      <td>25.4</td>\n",
       "      <td>11.5200</td>\n",
       "      <td>4.0200</td>\n",
       "    </tr>\n",
       "    <tr>\n",
       "      <th>1</th>\n",
       "      <td>Bream</td>\n",
       "      <td>290.0</td>\n",
       "      <td>26.3</td>\n",
       "      <td>12.4800</td>\n",
       "      <td>4.3056</td>\n",
       "    </tr>\n",
       "    <tr>\n",
       "      <th>2</th>\n",
       "      <td>Bream</td>\n",
       "      <td>340.0</td>\n",
       "      <td>26.5</td>\n",
       "      <td>12.3778</td>\n",
       "      <td>4.6961</td>\n",
       "    </tr>\n",
       "    <tr>\n",
       "      <th>3</th>\n",
       "      <td>Bream</td>\n",
       "      <td>363.0</td>\n",
       "      <td>29.0</td>\n",
       "      <td>12.7300</td>\n",
       "      <td>4.4555</td>\n",
       "    </tr>\n",
       "    <tr>\n",
       "      <th>4</th>\n",
       "      <td>Bream</td>\n",
       "      <td>430.0</td>\n",
       "      <td>29.0</td>\n",
       "      <td>12.4440</td>\n",
       "      <td>5.1340</td>\n",
       "    </tr>\n",
       "    <tr>\n",
       "      <th>...</th>\n",
       "      <td>...</td>\n",
       "      <td>...</td>\n",
       "      <td>...</td>\n",
       "      <td>...</td>\n",
       "      <td>...</td>\n",
       "    </tr>\n",
       "    <tr>\n",
       "      <th>154</th>\n",
       "      <td>Smelt</td>\n",
       "      <td>12.2</td>\n",
       "      <td>12.2</td>\n",
       "      <td>2.0904</td>\n",
       "      <td>1.3936</td>\n",
       "    </tr>\n",
       "    <tr>\n",
       "      <th>155</th>\n",
       "      <td>Smelt</td>\n",
       "      <td>13.4</td>\n",
       "      <td>12.4</td>\n",
       "      <td>2.4300</td>\n",
       "      <td>1.2690</td>\n",
       "    </tr>\n",
       "    <tr>\n",
       "      <th>156</th>\n",
       "      <td>Smelt</td>\n",
       "      <td>12.2</td>\n",
       "      <td>13.0</td>\n",
       "      <td>2.2770</td>\n",
       "      <td>1.2558</td>\n",
       "    </tr>\n",
       "    <tr>\n",
       "      <th>157</th>\n",
       "      <td>Smelt</td>\n",
       "      <td>19.7</td>\n",
       "      <td>14.3</td>\n",
       "      <td>2.8728</td>\n",
       "      <td>2.0672</td>\n",
       "    </tr>\n",
       "    <tr>\n",
       "      <th>158</th>\n",
       "      <td>Smelt</td>\n",
       "      <td>19.9</td>\n",
       "      <td>15.0</td>\n",
       "      <td>2.9322</td>\n",
       "      <td>1.8792</td>\n",
       "    </tr>\n",
       "  </tbody>\n",
       "</table>\n",
       "<p>159 rows × 5 columns</p>\n",
       "</div>"
      ],
      "text/plain": [
       "    Species  Weight  Length   Height   Width\n",
       "0     Bream   242.0    25.4  11.5200  4.0200\n",
       "1     Bream   290.0    26.3  12.4800  4.3056\n",
       "2     Bream   340.0    26.5  12.3778  4.6961\n",
       "3     Bream   363.0    29.0  12.7300  4.4555\n",
       "4     Bream   430.0    29.0  12.4440  5.1340\n",
       "..      ...     ...     ...      ...     ...\n",
       "154   Smelt    12.2    12.2   2.0904  1.3936\n",
       "155   Smelt    13.4    12.4   2.4300  1.2690\n",
       "156   Smelt    12.2    13.0   2.2770  1.2558\n",
       "157   Smelt    19.7    14.3   2.8728  2.0672\n",
       "158   Smelt    19.9    15.0   2.9322  1.8792\n",
       "\n",
       "[159 rows x 5 columns]"
      ]
     },
     "execution_count": 13,
     "metadata": {},
     "output_type": "execute_result"
    }
   ],
   "source": [
    "fish_all = pd.read_csv('Fish.csv')\n",
    "fish_all"
   ]
  },
  {
   "cell_type": "code",
   "execution_count": 14,
   "metadata": {},
   "outputs": [
    {
     "name": "stdout",
     "output_type": "stream",
     "text": [
      "   Species  Weight  Length   Height   Width\n",
      "0    Bream   242.0    25.4  11.5200  4.0200\n",
      "1    Bream   290.0    26.3  12.4800  4.3056\n",
      "2    Bream   340.0    26.5  12.3778  4.6961\n",
      "3    Bream   363.0    29.0  12.7300  4.4555\n",
      "4    Bream   430.0    29.0  12.4440  5.1340\n",
      "5    Bream   450.0    29.7  13.6024  4.9274\n",
      "6    Bream   500.0    29.7  14.1795  5.2785\n",
      "7    Bream   390.0    30.0  12.6700  4.6900\n",
      "8    Bream   450.0    30.0  14.0049  4.8438\n",
      "9    Bream   500.0    30.7  14.2266  4.9594\n",
      "10   Bream   475.0    31.0  14.2628  5.1042\n",
      "11   Bream   500.0    31.0  14.3714  4.8146\n",
      "12   Bream   500.0    31.5  13.7592  4.3680\n",
      "13   Bream   340.0    32.0  13.9129  5.0728\n",
      "14   Bream   600.0    32.0  14.9544  5.1708\n",
      "15   Bream   600.0    32.0  15.4380  5.5800\n",
      "16   Bream   700.0    33.0  14.8604  5.2854\n",
      "17   Bream   700.0    33.0  14.9380  5.1975\n",
      "18   Bream   610.0    33.5  15.6330  5.1338\n",
      "19   Bream   650.0    33.5  14.4738  5.7276\n",
      "20   Bream   575.0    34.0  15.1285  5.5695\n",
      "21   Bream   685.0    34.0  15.9936  5.3704\n",
      "22   Bream   620.0    34.5  15.5227  5.2801\n",
      "23   Bream   680.0    35.0  15.4686  6.1306\n",
      "24   Bream   700.0    35.0  16.2405  5.5890\n",
      "25   Bream   725.0    35.0  16.3600  6.0532\n",
      "26   Bream   720.0    35.0  16.3618  6.0900\n",
      "27   Bream   714.0    36.0  16.5170  5.8515\n",
      "28   Bream   850.0    36.0  16.8896  6.1984\n",
      "29   Bream  1000.0    37.0  18.9570  6.6030\n",
      "30   Bream   920.0    38.5  18.0369  6.3063\n",
      "31   Bream   955.0    38.5  18.0840  6.2920\n",
      "32   Bream   925.0    39.5  18.7542  6.7497\n",
      "33   Bream   975.0    41.0  18.6354  6.7473\n",
      "34   Bream   950.0    41.0  17.6235  6.3705\n",
      "0    25.4\n",
      "1    26.3\n",
      "2    26.5\n",
      "3    29.0\n",
      "4    29.0\n",
      "Name: Length, dtype: float64\n",
      "0    242.0\n",
      "1    290.0\n",
      "2    340.0\n",
      "3    363.0\n",
      "4    430.0\n",
      "Name: Weight, dtype: float64\n"
     ]
    }
   ],
   "source": [
    "fish_bream = fish_all[fish_all['Species'] == 'Bream']\n",
    "print(fish_bream)\n",
    "\n",
    "bream_length = fish_bream['Length']\n",
    "print(bream_length[:5])\n",
    "\n",
    "bream_weight = fish_bream['Weight']\n",
    "print(bream_weight[:5])"
   ]
  },
  {
   "cell_type": "code",
   "execution_count": 19,
   "metadata": {},
   "outputs": [
    {
     "name": "stdout",
     "output_type": "stream",
     "text": [
      "    Species  Weight  Length  Height   Width\n",
      "145   Smelt     6.7     9.8  1.7388  1.0476\n",
      "146   Smelt     7.5    10.5  1.9720  1.1600\n",
      "147   Smelt     7.0    10.6  1.7284  1.1484\n",
      "148   Smelt     9.7    11.0  2.1960  1.3800\n",
      "149   Smelt     9.8    11.2  2.0832  1.2772\n",
      "150   Smelt     8.7    11.3  1.9782  1.2852\n",
      "151   Smelt    10.0    11.8  2.2139  1.2838\n",
      "152   Smelt     9.9    11.8  2.2139  1.1659\n",
      "153   Smelt     9.8    12.0  2.2044  1.1484\n",
      "154   Smelt    12.2    12.2  2.0904  1.3936\n",
      "155   Smelt    13.4    12.4  2.4300  1.2690\n",
      "156   Smelt    12.2    13.0  2.2770  1.2558\n",
      "157   Smelt    19.7    14.3  2.8728  2.0672\n",
      "158   Smelt    19.9    15.0  2.9322  1.8792\n",
      "145     9.8\n",
      "146    10.5\n",
      "147    10.6\n",
      "148    11.0\n",
      "149    11.2\n",
      "Name: Length, dtype: float64\n",
      "145    6.7\n",
      "146    7.5\n",
      "147    7.0\n",
      "148    9.7\n",
      "149    9.8\n",
      "Name: Weight, dtype: float64\n"
     ]
    }
   ],
   "source": [
    "fish_smelt = fish_all[fish_all['Species'] == 'Smelt']\n",
    "print(fish_smelt)\n",
    "\n",
    "smelt_length = fish_smelt['Length']\n",
    "print(smelt_length[:5])\n",
    "\n",
    "smelt_weight = fish_smelt['Weight']\n",
    "print(smelt_weight[:5])"
   ]
  },
  {
   "cell_type": "code",
   "execution_count": 20,
   "metadata": {},
   "outputs": [
    {
     "name": "stdout",
     "output_type": "stream",
     "text": [
      "[[25.4]\n",
      " [26.3]\n",
      " [26.5]\n",
      " [29. ]\n",
      " [29. ]\n",
      " [29.7]\n",
      " [29.7]\n",
      " [30. ]\n",
      " [30. ]\n",
      " [30.7]\n",
      " [31. ]\n",
      " [31. ]\n",
      " [31.5]\n",
      " [32. ]\n",
      " [32. ]\n",
      " [32. ]\n",
      " [33. ]\n",
      " [33. ]\n",
      " [33.5]\n",
      " [33.5]\n",
      " [34. ]\n",
      " [34. ]\n",
      " [34.5]\n",
      " [35. ]\n",
      " [35. ]\n",
      " [35. ]\n",
      " [35. ]\n",
      " [36. ]\n",
      " [36. ]\n",
      " [37. ]\n",
      " [38.5]\n",
      " [38.5]\n",
      " [39.5]\n",
      " [41. ]\n",
      " [41. ]]\n",
      "[[ 9.8]\n",
      " [10.5]\n",
      " [10.6]\n",
      " [11. ]\n",
      " [11.2]\n",
      " [11.3]\n",
      " [11.8]\n",
      " [11.8]\n",
      " [12. ]\n",
      " [12.2]\n",
      " [12.4]\n",
      " [13. ]\n",
      " [14.3]\n",
      " [15. ]]\n",
      "(49, 1)\n"
     ]
    }
   ],
   "source": [
    "length_bream = bream_length.to_numpy().reshape(-1, 1)\n",
    "print(length_bream)\n",
    "\n",
    "length_smelt = smelt_length.to_numpy().reshape(-1, 1)\n",
    "print(length_smelt)\n",
    "\n",
    "length_bream_smelt = np.concatenate([length_bream, length_smelt], axis = 0)\n",
    "print(length_bream_smelt.shape)"
   ]
  },
  {
   "cell_type": "code",
   "execution_count": 21,
   "metadata": {},
   "outputs": [],
   "source": [
    "weight_bream = bream_weight.to_numpy().reshape(-1, 1)\n",
    "weight_smelt = smelt_weight.to_numpy().reshape(-1, 1)\n",
    "\n",
    "weight_bream_smelt = np.concatenate([weight_bream, weight_smelt], axis = 0)"
   ]
  },
  {
   "cell_type": "code",
   "execution_count": 22,
   "metadata": {},
   "outputs": [
    {
     "name": "stdout",
     "output_type": "stream",
     "text": [
      "(49, 2)\n",
      "[[  25.4  242. ]\n",
      " [  26.3  290. ]\n",
      " [  26.5  340. ]\n",
      " [  29.   363. ]\n",
      " [  29.   430. ]\n",
      " [  29.7  450. ]\n",
      " [  29.7  500. ]\n",
      " [  30.   390. ]\n",
      " [  30.   450. ]\n",
      " [  30.7  500. ]\n",
      " [  31.   475. ]\n",
      " [  31.   500. ]\n",
      " [  31.5  500. ]\n",
      " [  32.   340. ]\n",
      " [  32.   600. ]\n",
      " [  32.   600. ]\n",
      " [  33.   700. ]\n",
      " [  33.   700. ]\n",
      " [  33.5  610. ]\n",
      " [  33.5  650. ]\n",
      " [  34.   575. ]\n",
      " [  34.   685. ]\n",
      " [  34.5  620. ]\n",
      " [  35.   680. ]\n",
      " [  35.   700. ]\n",
      " [  35.   725. ]\n",
      " [  35.   720. ]\n",
      " [  36.   714. ]\n",
      " [  36.   850. ]\n",
      " [  37.  1000. ]\n",
      " [  38.5  920. ]\n",
      " [  38.5  955. ]\n",
      " [  39.5  925. ]\n",
      " [  41.   975. ]\n",
      " [  41.   950. ]\n",
      " [   9.8    6.7]\n",
      " [  10.5    7.5]\n",
      " [  10.6    7. ]\n",
      " [  11.     9.7]\n",
      " [  11.2    9.8]\n",
      " [  11.3    8.7]\n",
      " [  11.8   10. ]\n",
      " [  11.8    9.9]\n",
      " [  12.     9.8]\n",
      " [  12.2   12.2]\n",
      " [  12.4   13.4]\n",
      " [  13.    12.2]\n",
      " [  14.3   19.7]\n",
      " [  15.    19.9]]\n"
     ]
    }
   ],
   "source": [
    "data_input = np.concatenate([length_bream_smelt, weight_bream_smelt], axis = 1)\n",
    "print(data_input.shape)\n",
    "print(data_input)"
   ]
  },
  {
   "cell_type": "code",
   "execution_count": 23,
   "metadata": {},
   "outputs": [
    {
     "name": "stdout",
     "output_type": "stream",
     "text": [
      "(49,)\n",
      "[1. 1. 1. 1. 1. 1. 1. 1. 1. 1. 1. 1. 1. 1. 1. 1. 1. 1. 1. 1. 1. 1. 1. 1.\n",
      " 1. 1. 1. 1. 1. 1. 1. 1. 1. 1. 1. 0. 0. 0. 0. 0. 0. 0. 0. 0. 0. 0. 0. 0.\n",
      " 0.]\n"
     ]
    }
   ],
   "source": [
    "target_bream = np.ones(35)\n",
    "target_smelt = np.zeros(14)\n",
    "\n",
    "data_target = np.concatenate([target_bream, target_smelt])\n",
    "print(data_target.shape)\n",
    "print(data_target)"
   ]
  },
  {
   "cell_type": "code",
   "execution_count": 26,
   "metadata": {},
   "outputs": [
    {
     "name": "stdout",
     "output_type": "stream",
     "text": [
      "(36, 2) (13, 2) (36,) (13,)\n",
      "[1. 0. 1. 0. 1. 1. 1. 1. 1. 1. 1. 0. 1. 0. 1. 1. 1. 1. 1. 0. 1. 1. 0. 1.\n",
      " 0. 1. 0. 1. 1. 1. 0. 1. 1. 0. 1. 1.]\n",
      "[0. 0. 1. 0. 1. 0. 1. 1. 1. 1. 1. 1. 1.]\n"
     ]
    }
   ],
   "source": [
    "from sklearn.model_selection import train_test_split\n",
    "\n",
    "train_input, test_input, train_target, test_target = train_test_split(data_input, data_target, stratify=data_target, random_state = 42)\n",
    "\n",
    "print(train_input.shape, test_input.shape, train_target.shape, test_target.shape)\n",
    "\n",
    "print(train_target)\n",
    "print(test_target)"
   ]
  },
  {
   "cell_type": "code",
   "execution_count": 29,
   "metadata": {},
   "outputs": [
    {
     "data": {
      "text/plain": [
       "KNeighborsClassifier(algorithm='auto', leaf_size=30, metric='minkowski',\n",
       "                     metric_params=None, n_jobs=None, n_neighbors=5, p=2,\n",
       "                     weights='uniform')"
      ]
     },
     "execution_count": 29,
     "metadata": {},
     "output_type": "execute_result"
    }
   ],
   "source": [
    "from sklearn.neighbors import KNeighborsClassifier\n",
    "\n",
    "model_knc = KNeighborsClassifier()\n",
    "model_knc.fit(train_input, train_target)"
   ]
  },
  {
   "cell_type": "code",
   "execution_count": 30,
   "metadata": {},
   "outputs": [
    {
     "name": "stdout",
     "output_type": "stream",
     "text": [
      "[1.]\n"
     ]
    }
   ],
   "source": [
    "print(model_knc.predict([[25, 400]]))"
   ]
  },
  {
   "cell_type": "code",
   "execution_count": 34,
   "metadata": {},
   "outputs": [
    {
     "data": {
      "image/png": "[encoded data removed]",
      "text/plain": [
       "<Figure size 432x288 with 1 Axes>"
      ]
     },
     "metadata": {
      "needs_background": "light"
     },
     "output_type": "display_data"
    }
   ],
   "source": [
    "plt.scatter(length_bream, weight_bream)\n",
    "plt.scatter(length_smelt, weight_smelt)\n",
    "\n",
    "plt.scatter(25, 400, marker='^', c = 'r')\n",
    "\n",
    "plt.rc('font', family = 'Malgun Gothic')\n",
    "plt.xlabel('길이')\n",
    "plt.ylabel('무게')\n",
    "plt.show()"
   ]
  },
  {
   "cell_type": "code",
   "execution_count": 41,
   "metadata": {},
   "outputs": [
    {
     "data": {
      "image/png": "[encoded data removed]",
      "text/plain": [
       "<Figure size 432x288 with 1 Axes>"
      ]
     },
     "metadata": {
      "needs_background": "light"
     },
     "output_type": "display_data"
    }
   ],
   "source": [
    "plt.scatter(train_input[:,0], train_input[:, 1])\n",
    "\n",
    "plt.scatter(25, 400, marker='^', c = 'r')\n",
    "\n",
    "plt.rc('font', family = 'Malgun Gothic')\n",
    "plt.xlabel('길이')\n",
    "plt.ylabel('무게')\n",
    "plt.show()"
   ]
  },
  {
   "cell_type": "code",
   "execution_count": 43,
   "metadata": {},
   "outputs": [
    {
     "name": "stdout",
     "output_type": "stream",
     "text": [
      "1.0\n"
     ]
    }
   ],
   "source": [
    "score_knc = model_knc.score(test_input, test_target)\n",
    "print(score_knc)"
   ]
  },
  {
   "cell_type": "code",
   "execution_count": 49,
   "metadata": {},
   "outputs": [
    {
     "name": "stdout",
     "output_type": "stream",
     "text": [
      "모델의 정확도 100%가 깨지는 첫 K값 : 20\n",
      "해당 k값에 대한 정확도 : 0.9230769230769231\n"
     ]
    }
   ],
   "source": [
    "model_neighbors = KNeighborsClassifier()\n",
    "model_neighbors.fit(train_input, train_target)\n",
    "\n",
    "for i in range(1, 49):\n",
    "    model_neighbors.n_neighbors = i\n",
    "    score_neighbors = model_neighbors.score(test_input, test_target)\n",
    "    \n",
    "    if(score_neighbors < 1):\n",
    "        print(f\"모델의 정확도 100%가 깨지는 첫 K값 : {i}\")\n",
    "        print(f\"해당 k값에 대한 정확도 : {score_neighbors}\")\n",
    "        break"
   ]
  },
  {
   "cell_type": "code",
   "execution_count": null,
   "metadata": {},
   "outputs": [],
   "source": []
  }
 ],
 "metadata": {
  "kernelspec": {
   "display_name": "Python 3",
   "language": "python",
   "name": "python3"
  },
  "language_info": {
   "codemirror_mode": {
    "name": "ipython",
    "version": 3
   },
   "file_extension": ".py",
   "mimetype": "text/x-python",
   "name": "python",
   "nbconvert_exporter": "python",
   "pygments_lexer": "ipython3",
   "version": "3.7.6"
  }
 },
 "nbformat": 4,
 "nbformat_minor": 4
}
