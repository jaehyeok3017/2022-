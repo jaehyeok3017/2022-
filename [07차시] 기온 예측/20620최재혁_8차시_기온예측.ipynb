{
 "cells": [
  {
   "cell_type": "code",
   "execution_count": 1,
   "metadata": {},
   "outputs": [],
   "source": [
    "import pandas as pd\n",
    "import numpy as np\n",
    "import matplotlib.pyplot as plt"
   ]
  },
  {
   "cell_type": "code",
   "execution_count": 2,
   "metadata": {},
   "outputs": [
    {
     "data": {
      "text/html": [
       "<div>\n",
       "<style scoped>\n",
       "    .dataframe tbody tr th:only-of-type {\n",
       "        vertical-align: middle;\n",
       "    }\n",
       "\n",
       "    .dataframe tbody tr th {\n",
       "        vertical-align: top;\n",
       "    }\n",
       "\n",
       "    .dataframe thead th {\n",
       "        text-align: right;\n",
       "    }\n",
       "</style>\n",
       "<table border=\"1\" class=\"dataframe\">\n",
       "  <thead>\n",
       "    <tr style=\"text-align: right;\">\n",
       "      <th></th>\n",
       "      <th>년도</th>\n",
       "      <th>지점</th>\n",
       "      <th>평균기온</th>\n",
       "      <th>최저기온</th>\n",
       "      <th>최고기온</th>\n",
       "    </tr>\n",
       "  </thead>\n",
       "  <tbody>\n",
       "    <tr>\n",
       "      <th>0</th>\n",
       "      <td>1907</td>\n",
       "      <td>108</td>\n",
       "      <td>NaN</td>\n",
       "      <td>-20.1</td>\n",
       "      <td>25.4</td>\n",
       "    </tr>\n",
       "    <tr>\n",
       "      <th>1</th>\n",
       "      <td>1908</td>\n",
       "      <td>108</td>\n",
       "      <td>10.4</td>\n",
       "      <td>-15.8</td>\n",
       "      <td>33.6</td>\n",
       "    </tr>\n",
       "    <tr>\n",
       "      <th>2</th>\n",
       "      <td>1909</td>\n",
       "      <td>108</td>\n",
       "      <td>10.6</td>\n",
       "      <td>-14.6</td>\n",
       "      <td>35.6</td>\n",
       "    </tr>\n",
       "    <tr>\n",
       "      <th>3</th>\n",
       "      <td>1910</td>\n",
       "      <td>108</td>\n",
       "      <td>10.3</td>\n",
       "      <td>-19.9</td>\n",
       "      <td>33.3</td>\n",
       "    </tr>\n",
       "    <tr>\n",
       "      <th>4</th>\n",
       "      <td>1911</td>\n",
       "      <td>108</td>\n",
       "      <td>10.6</td>\n",
       "      <td>-21.5</td>\n",
       "      <td>34.5</td>\n",
       "    </tr>\n",
       "    <tr>\n",
       "      <th>...</th>\n",
       "      <td>...</td>\n",
       "      <td>...</td>\n",
       "      <td>...</td>\n",
       "      <td>...</td>\n",
       "      <td>...</td>\n",
       "    </tr>\n",
       "    <tr>\n",
       "      <th>110</th>\n",
       "      <td>2017</td>\n",
       "      <td>108</td>\n",
       "      <td>13.0</td>\n",
       "      <td>-12.6</td>\n",
       "      <td>35.4</td>\n",
       "    </tr>\n",
       "    <tr>\n",
       "      <th>111</th>\n",
       "      <td>2018</td>\n",
       "      <td>108</td>\n",
       "      <td>12.9</td>\n",
       "      <td>-17.8</td>\n",
       "      <td>39.6</td>\n",
       "    </tr>\n",
       "    <tr>\n",
       "      <th>112</th>\n",
       "      <td>2019</td>\n",
       "      <td>108</td>\n",
       "      <td>13.5</td>\n",
       "      <td>-10.9</td>\n",
       "      <td>36.8</td>\n",
       "    </tr>\n",
       "    <tr>\n",
       "      <th>113</th>\n",
       "      <td>2020</td>\n",
       "      <td>108</td>\n",
       "      <td>13.2</td>\n",
       "      <td>-12.9</td>\n",
       "      <td>35.4</td>\n",
       "    </tr>\n",
       "    <tr>\n",
       "      <th>114</th>\n",
       "      <td>2021</td>\n",
       "      <td>108</td>\n",
       "      <td>13.7</td>\n",
       "      <td>-18.6</td>\n",
       "      <td>36.5</td>\n",
       "    </tr>\n",
       "  </tbody>\n",
       "</table>\n",
       "<p>115 rows × 5 columns</p>\n",
       "</div>"
      ],
      "text/plain": [
       "       년도   지점  평균기온  최저기온  최고기온\n",
       "0    1907  108   NaN -20.1  25.4\n",
       "1    1908  108  10.4 -15.8  33.6\n",
       "2    1909  108  10.6 -14.6  35.6\n",
       "3    1910  108  10.3 -19.9  33.3\n",
       "4    1911  108  10.6 -21.5  34.5\n",
       "..    ...  ...   ...   ...   ...\n",
       "110  2017  108  13.0 -12.6  35.4\n",
       "111  2018  108  12.9 -17.8  39.6\n",
       "112  2019  108  13.5 -10.9  36.8\n",
       "113  2020  108  13.2 -12.9  35.4\n",
       "114  2021  108  13.7 -18.6  36.5\n",
       "\n",
       "[115 rows x 5 columns]"
      ]
     },
     "execution_count": 2,
     "metadata": {},
     "output_type": "execute_result"
    }
   ],
   "source": [
    "seoul_temp = pd.read_csv('seoul_temp_1904_2021.csv', encoding='cp949')\n",
    "seoul_temp"
   ]
  },
  {
   "cell_type": "code",
   "execution_count": 3,
   "metadata": {},
   "outputs": [
    {
     "data": {
      "text/html": [
       "<div>\n",
       "<style scoped>\n",
       "    .dataframe tbody tr th:only-of-type {\n",
       "        vertical-align: middle;\n",
       "    }\n",
       "\n",
       "    .dataframe tbody tr th {\n",
       "        vertical-align: top;\n",
       "    }\n",
       "\n",
       "    .dataframe thead th {\n",
       "        text-align: right;\n",
       "    }\n",
       "</style>\n",
       "<table border=\"1\" class=\"dataframe\">\n",
       "  <thead>\n",
       "    <tr style=\"text-align: right;\">\n",
       "      <th></th>\n",
       "      <th>년도</th>\n",
       "      <th>지점</th>\n",
       "      <th>평균기온</th>\n",
       "      <th>최저기온</th>\n",
       "      <th>최고기온</th>\n",
       "    </tr>\n",
       "  </thead>\n",
       "  <tbody>\n",
       "    <tr>\n",
       "      <th>count</th>\n",
       "      <td>115.000000</td>\n",
       "      <td>115.0</td>\n",
       "      <td>110.000000</td>\n",
       "      <td>113.000000</td>\n",
       "      <td>113.000000</td>\n",
       "    </tr>\n",
       "    <tr>\n",
       "      <th>mean</th>\n",
       "      <td>1964.000000</td>\n",
       "      <td>108.0</td>\n",
       "      <td>11.723636</td>\n",
       "      <td>-16.448673</td>\n",
       "      <td>34.819469</td>\n",
       "    </tr>\n",
       "    <tr>\n",
       "      <th>std</th>\n",
       "      <td>33.341666</td>\n",
       "      <td>0.0</td>\n",
       "      <td>1.000819</td>\n",
       "      <td>3.111933</td>\n",
       "      <td>2.496600</td>\n",
       "    </tr>\n",
       "    <tr>\n",
       "      <th>min</th>\n",
       "      <td>1907.000000</td>\n",
       "      <td>108.0</td>\n",
       "      <td>9.600000</td>\n",
       "      <td>-23.100000</td>\n",
       "      <td>16.200000</td>\n",
       "    </tr>\n",
       "    <tr>\n",
       "      <th>25%</th>\n",
       "      <td>1935.500000</td>\n",
       "      <td>108.0</td>\n",
       "      <td>10.900000</td>\n",
       "      <td>-18.600000</td>\n",
       "      <td>34.000000</td>\n",
       "    </tr>\n",
       "    <tr>\n",
       "      <th>50%</th>\n",
       "      <td>1964.000000</td>\n",
       "      <td>108.0</td>\n",
       "      <td>11.650000</td>\n",
       "      <td>-16.800000</td>\n",
       "      <td>35.100000</td>\n",
       "    </tr>\n",
       "    <tr>\n",
       "      <th>75%</th>\n",
       "      <td>1992.500000</td>\n",
       "      <td>108.0</td>\n",
       "      <td>12.475000</td>\n",
       "      <td>-14.100000</td>\n",
       "      <td>36.000000</td>\n",
       "    </tr>\n",
       "    <tr>\n",
       "      <th>max</th>\n",
       "      <td>2021.000000</td>\n",
       "      <td>108.0</td>\n",
       "      <td>13.800000</td>\n",
       "      <td>-8.600000</td>\n",
       "      <td>39.600000</td>\n",
       "    </tr>\n",
       "  </tbody>\n",
       "</table>\n",
       "</div>"
      ],
      "text/plain": [
       "                년도     지점        평균기온        최저기온        최고기온\n",
       "count   115.000000  115.0  110.000000  113.000000  113.000000\n",
       "mean   1964.000000  108.0   11.723636  -16.448673   34.819469\n",
       "std      33.341666    0.0    1.000819    3.111933    2.496600\n",
       "min    1907.000000  108.0    9.600000  -23.100000   16.200000\n",
       "25%    1935.500000  108.0   10.900000  -18.600000   34.000000\n",
       "50%    1964.000000  108.0   11.650000  -16.800000   35.100000\n",
       "75%    1992.500000  108.0   12.475000  -14.100000   36.000000\n",
       "max    2021.000000  108.0   13.800000   -8.600000   39.600000"
      ]
     },
     "execution_count": 3,
     "metadata": {},
     "output_type": "execute_result"
    }
   ],
   "source": [
    "seoul_temp.describe()"
   ]
  },
  {
   "cell_type": "code",
   "execution_count": 4,
   "metadata": {},
   "outputs": [
    {
     "name": "stdout",
     "output_type": "stream",
     "text": [
      "<class 'pandas.core.frame.DataFrame'>\n",
      "RangeIndex: 115 entries, 0 to 114\n",
      "Data columns (total 5 columns):\n",
      " #   Column  Non-Null Count  Dtype  \n",
      "---  ------  --------------  -----  \n",
      " 0   년도      115 non-null    int64  \n",
      " 1   지점      115 non-null    int64  \n",
      " 2   평균기온    110 non-null    float64\n",
      " 3   최저기온    113 non-null    float64\n",
      " 4   최고기온    113 non-null    float64\n",
      "dtypes: float64(3), int64(2)\n",
      "memory usage: 4.6 KB\n"
     ]
    }
   ],
   "source": [
    "seoul_temp.info()"
   ]
  },
  {
   "cell_type": "code",
   "execution_count": 5,
   "metadata": {},
   "outputs": [
    {
     "name": "stdout",
     "output_type": "stream",
     "text": [
      "년도      0\n",
      "지점      0\n",
      "평균기온    5\n",
      "최저기온    2\n",
      "최고기온    2\n",
      "dtype: int64\n",
      "\n",
      "      년도   지점  평균기온  최저기온  최고기온\n",
      "0   1907  108   NaN -20.1  25.4\n",
      "43  1950  108   NaN -18.0  36.9\n",
      "44  1951  108   NaN   NaN   NaN\n",
      "45  1952  108   NaN   NaN   NaN\n",
      "46  1953  108   NaN  -9.2  16.2\n",
      "\n"
     ]
    }
   ],
   "source": [
    "print(seoul_temp.isnull().sum())\n",
    "print()\n",
    "\n",
    "print(seoul_temp[seoul_temp['평균기온'].isnull()])\n",
    "print()"
   ]
  },
  {
   "cell_type": "code",
   "execution_count": 6,
   "metadata": {},
   "outputs": [],
   "source": [
    "plt.rc('font', family='Malgun Gothic')\n",
    "plt.rcParams['axes.unicode_minus'] = False"
   ]
  },
  {
   "cell_type": "code",
   "execution_count": 10,
   "metadata": {},
   "outputs": [
    {
     "data": {
      "image/png": "[encoded data removed]",
      "text/plain": [
       "<Figure size 432x288 with 1 Axes>"
      ]
     },
     "metadata": {
      "needs_background": "light"
     },
     "output_type": "display_data"
    }
   ],
   "source": [
    "year = seoul_temp['년도']\n",
    "temp_mean = seoul_temp['평균기온']\n",
    "temp_min = seoul_temp['최저기온']\n",
    "temp_max = seoul_temp['최고기온']\n",
    "\n",
    "plt.xlabel('년도')\n",
    "plt.ylabel('기온')\n",
    "\n",
    "plt.plot(year, temp_mean, color='green', label='평균기온')\n",
    "plt.plot(year, temp_min, color='skyblue', label='최저기온')\n",
    "plt.plot(year, temp_max, color='hotpink', label='최고기온')\n",
    "\n",
    "plt.legend()\n",
    "plt.show()"
   ]
  },
  {
   "cell_type": "code",
   "execution_count": 14,
   "metadata": {},
   "outputs": [
    {
     "data": {
      "text/html": [
       "<div>\n",
       "<style scoped>\n",
       "    .dataframe tbody tr th:only-of-type {\n",
       "        vertical-align: middle;\n",
       "    }\n",
       "\n",
       "    .dataframe tbody tr th {\n",
       "        vertical-align: top;\n",
       "    }\n",
       "\n",
       "    .dataframe thead th {\n",
       "        text-align: right;\n",
       "    }\n",
       "</style>\n",
       "<table border=\"1\" class=\"dataframe\">\n",
       "  <thead>\n",
       "    <tr style=\"text-align: right;\">\n",
       "      <th></th>\n",
       "      <th>년도</th>\n",
       "      <th>지점</th>\n",
       "      <th>평균기온</th>\n",
       "      <th>최저기온</th>\n",
       "      <th>최고기온</th>\n",
       "    </tr>\n",
       "  </thead>\n",
       "  <tbody>\n",
       "    <tr>\n",
       "      <th>1</th>\n",
       "      <td>1908</td>\n",
       "      <td>108</td>\n",
       "      <td>10.4</td>\n",
       "      <td>-15.8</td>\n",
       "      <td>33.6</td>\n",
       "    </tr>\n",
       "    <tr>\n",
       "      <th>2</th>\n",
       "      <td>1909</td>\n",
       "      <td>108</td>\n",
       "      <td>10.6</td>\n",
       "      <td>-14.6</td>\n",
       "      <td>35.6</td>\n",
       "    </tr>\n",
       "    <tr>\n",
       "      <th>3</th>\n",
       "      <td>1910</td>\n",
       "      <td>108</td>\n",
       "      <td>10.3</td>\n",
       "      <td>-19.9</td>\n",
       "      <td>33.3</td>\n",
       "    </tr>\n",
       "    <tr>\n",
       "      <th>4</th>\n",
       "      <td>1911</td>\n",
       "      <td>108</td>\n",
       "      <td>10.6</td>\n",
       "      <td>-21.5</td>\n",
       "      <td>34.5</td>\n",
       "    </tr>\n",
       "    <tr>\n",
       "      <th>5</th>\n",
       "      <td>1912</td>\n",
       "      <td>108</td>\n",
       "      <td>10.1</td>\n",
       "      <td>-18.6</td>\n",
       "      <td>34.0</td>\n",
       "    </tr>\n",
       "    <tr>\n",
       "      <th>...</th>\n",
       "      <td>...</td>\n",
       "      <td>...</td>\n",
       "      <td>...</td>\n",
       "      <td>...</td>\n",
       "      <td>...</td>\n",
       "    </tr>\n",
       "    <tr>\n",
       "      <th>110</th>\n",
       "      <td>2017</td>\n",
       "      <td>108</td>\n",
       "      <td>13.0</td>\n",
       "      <td>-12.6</td>\n",
       "      <td>35.4</td>\n",
       "    </tr>\n",
       "    <tr>\n",
       "      <th>111</th>\n",
       "      <td>2018</td>\n",
       "      <td>108</td>\n",
       "      <td>12.9</td>\n",
       "      <td>-17.8</td>\n",
       "      <td>39.6</td>\n",
       "    </tr>\n",
       "    <tr>\n",
       "      <th>112</th>\n",
       "      <td>2019</td>\n",
       "      <td>108</td>\n",
       "      <td>13.5</td>\n",
       "      <td>-10.9</td>\n",
       "      <td>36.8</td>\n",
       "    </tr>\n",
       "    <tr>\n",
       "      <th>113</th>\n",
       "      <td>2020</td>\n",
       "      <td>108</td>\n",
       "      <td>13.2</td>\n",
       "      <td>-12.9</td>\n",
       "      <td>35.4</td>\n",
       "    </tr>\n",
       "    <tr>\n",
       "      <th>114</th>\n",
       "      <td>2021</td>\n",
       "      <td>108</td>\n",
       "      <td>13.7</td>\n",
       "      <td>-18.6</td>\n",
       "      <td>36.5</td>\n",
       "    </tr>\n",
       "  </tbody>\n",
       "</table>\n",
       "<p>110 rows × 5 columns</p>\n",
       "</div>"
      ],
      "text/plain": [
       "       년도   지점  평균기온  최저기온  최고기온\n",
       "1    1908  108  10.4 -15.8  33.6\n",
       "2    1909  108  10.6 -14.6  35.6\n",
       "3    1910  108  10.3 -19.9  33.3\n",
       "4    1911  108  10.6 -21.5  34.5\n",
       "5    1912  108  10.1 -18.6  34.0\n",
       "..    ...  ...   ...   ...   ...\n",
       "110  2017  108  13.0 -12.6  35.4\n",
       "111  2018  108  12.9 -17.8  39.6\n",
       "112  2019  108  13.5 -10.9  36.8\n",
       "113  2020  108  13.2 -12.9  35.4\n",
       "114  2021  108  13.7 -18.6  36.5\n",
       "\n",
       "[110 rows x 5 columns]"
      ]
     },
     "execution_count": 14,
     "metadata": {},
     "output_type": "execute_result"
    }
   ],
   "source": [
    "seoul_temp_new = seoul_temp.dropna()\n",
    "seoul_temp_new"
   ]
  },
  {
   "cell_type": "code",
   "execution_count": 16,
   "metadata": {},
   "outputs": [
    {
     "name": "stdout",
     "output_type": "stream",
     "text": [
      "(110, 1) (110,)\n"
     ]
    }
   ],
   "source": [
    "data_input = np.array(seoul_temp_new['년도'])\n",
    "data_target = np.array(seoul_temp_new['평균기온'])\n",
    "\n",
    "data_input = data_input.reshape(-1, 1)\n",
    "\n",
    "print(data_input.shape, data_target.shape)"
   ]
  },
  {
   "cell_type": "code",
   "execution_count": 17,
   "metadata": {},
   "outputs": [
    {
     "data": {
      "image/png": "[encoded data removed]",
      "text/plain": [
       "<Figure size 432x288 with 1 Axes>"
      ]
     },
     "metadata": {
      "needs_background": "light"
     },
     "output_type": "display_data"
    }
   ],
   "source": [
    "from sklearn.model_selection import train_test_split\n",
    "\n",
    "x_train, x_test, y_train, y_test = train_test_split(data_input, data_target, shuffle = False)\n",
    "\n",
    "plt.xlabel('평균기온')\n",
    "plt.ylabel('년도')\n",
    "\n",
    "plt.plot(x_train, y_train)\n",
    "plt.plot(x_test, y_test)\n",
    "\n",
    "plt.show()"
   ]
  },
  {
   "cell_type": "code",
   "execution_count": 18,
   "metadata": {},
   "outputs": [
    {
     "data": {
      "text/plain": [
       "LinearRegression(copy_X=True, fit_intercept=True, n_jobs=None, normalize=False)"
      ]
     },
     "execution_count": 18,
     "metadata": {},
     "output_type": "execute_result"
    }
   ],
   "source": [
    "from sklearn.linear_model import LinearRegression\n",
    "\n",
    "model_lr = LinearRegression()\n",
    "model_lr.fit(x_train, y_train)"
   ]
  },
  {
   "cell_type": "code",
   "execution_count": 19,
   "metadata": {},
   "outputs": [
    {
     "name": "stdout",
     "output_type": "stream",
     "text": [
      "[12.92499228]\n"
     ]
    }
   ],
   "source": [
    "print(model_lr.predict([[2032]]))"
   ]
  },
  {
   "cell_type": "code",
   "execution_count": 22,
   "metadata": {},
   "outputs": [
    {
     "data": {
      "image/png": "[encoded data removed]",
      "text/plain": [
       "<Figure size 432x288 with 1 Axes>"
      ]
     },
     "metadata": {
      "needs_background": "light"
     },
     "output_type": "display_data"
    }
   ],
   "source": [
    "x_line = np.arange(1908, 2051).reshape(-1, 1)\n",
    "y_line = model_lr.predict(x_line)\n",
    "\n",
    "plt.xlabel('년도')\n",
    "plt.ylabel('평균기온')\n",
    "\n",
    "plt.plot(x_train, y_train)\n",
    "plt.plot(x_line, y_line, \"r\")\n",
    "plt.show()"
   ]
  },
  {
   "cell_type": "code",
   "execution_count": 30,
   "metadata": {},
   "outputs": [
    {
     "name": "stdout",
     "output_type": "stream",
     "text": [
      "[12.72692235 12.74672934 12.76653633 12.78634333 12.80615032 12.82595732\n",
      " 12.84576431 12.8655713  12.8853783  12.90518529 12.92499228 12.94479928\n",
      " 12.96460627 12.98441327 13.00422026 13.02402725 13.04383425 13.06364124\n",
      " 13.08344823 13.10325523 13.12306222 13.14286922 13.16267621 13.1824832\n",
      " 13.2022902  13.22209719 13.24190418 13.26171118 13.28151817]\n"
     ]
    }
   ],
   "source": [
    "temp_predict = y_line[-29:]\n",
    "print(temp_predict)"
   ]
  },
  {
   "cell_type": "code",
   "execution_count": 36,
   "metadata": {},
   "outputs": [
    {
     "name": "stdout",
     "output_type": "stream",
     "text": [
      "2022년의 평균 기온 : 12.73\n",
      "2023년의 평균 기온 : 12.75\n",
      "2024년의 평균 기온 : 12.77\n",
      "2025년의 평균 기온 : 12.79\n",
      "2026년의 평균 기온 : 12.81\n",
      "2027년의 평균 기온 : 12.83\n",
      "2028년의 평균 기온 : 12.85\n",
      "2029년의 평균 기온 : 12.87\n",
      "2030년의 평균 기온 : 12.89\n",
      "2031년의 평균 기온 : 12.91\n",
      "2032년의 평균 기온 : 12.92\n",
      "2033년의 평균 기온 : 12.94\n",
      "2034년의 평균 기온 : 12.96\n",
      "2035년의 평균 기온 : 12.98\n",
      "2036년의 평균 기온 : 13.00\n",
      "2037년의 평균 기온 : 13.02\n",
      "2038년의 평균 기온 : 13.04\n",
      "2039년의 평균 기온 : 13.06\n",
      "2040년의 평균 기온 : 13.08\n",
      "2041년의 평균 기온 : 13.10\n",
      "2042년의 평균 기온 : 13.12\n",
      "2043년의 평균 기온 : 13.14\n",
      "2044년의 평균 기온 : 13.16\n",
      "2045년의 평균 기온 : 13.18\n",
      "2046년의 평균 기온 : 13.20\n",
      "2047년의 평균 기온 : 13.22\n",
      "2048년의 평균 기온 : 13.24\n",
      "2049년의 평균 기온 : 13.26\n",
      "2050년의 평균 기온 : 13.28\n"
     ]
    }
   ],
   "source": [
    "for year in range(2022, 2051):\n",
    "    print('%d년의 평균 기온 : %.2f' %(year, temp_predict[year - 2022]))"
   ]
  },
  {
   "cell_type": "code",
   "execution_count": 37,
   "metadata": {},
   "outputs": [
    {
     "data": {
      "image/png": "[encoded data removed]",
      "text/plain": [
       "<Figure size 432x288 with 1 Axes>"
      ]
     },
     "metadata": {
      "needs_background": "light"
     },
     "output_type": "display_data"
    }
   ],
   "source": [
    "plt.xlabel('평균기온')\n",
    "plt.ylabel('년도')\n",
    "\n",
    "plt.plot(x_train, y_train)\n",
    "plt.plot(x_test, y_test)\n",
    "\n",
    "plt.plot(x_line, y_line, \"r\")\n",
    "plt.show()"
   ]
  },
  {
   "cell_type": "code",
   "execution_count": 38,
   "metadata": {},
   "outputs": [
    {
     "name": "stdout",
     "output_type": "stream",
     "text": [
      "-0.8537483850168142\n"
     ]
    }
   ],
   "source": [
    "print(model_lr.score(x_test, y_test))"
   ]
  }
 ],
 "metadata": {
  "kernelspec": {
   "display_name": "Python 3",
   "language": "python",
   "name": "python3"
  },
  "language_info": {
   "codemirror_mode": {
    "name": "ipython",
    "version": 3
   },
   "file_extension": ".py",
   "mimetype": "text/x-python",
   "name": "python",
   "nbconvert_exporter": "python",
   "pygments_lexer": "ipython3",
   "version": "3.7.6"
  }
 },
 "nbformat": 4,
 "nbformat_minor": 4
}
